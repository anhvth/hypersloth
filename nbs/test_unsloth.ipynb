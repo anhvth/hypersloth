{
 "cells": [
  {
   "cell_type": "code",
   "execution_count": 4,
   "id": "171d506f-0422-4160-94e3-556d450f77e1",
   "metadata": {},
   "outputs": [],
   "source": [
    "%%capture\n",
    "%load_ext autoreload\n",
    "%autoreload 2\n",
    "%cd /home/ubuntu/projects/hyper-sloth"
   ]
  },
  {
   "cell_type": "code",
   "execution_count": 2,
   "id": "05b3046f",
   "metadata": {},
   "outputs": [],
   "source": [
    "%%capture\n",
    "import os\n",
    "if \"COLAB_\" not in \"\".join(os.environ.keys()):\n",
    "    !pip install unsloth\n",
    "else:\n",
    "    # Do this only in Colab notebooks! Otherwise use pip install unsloth\n",
    "    !pip install --no-deps bitsandbytes accelerate xformers==0.0.29.post3 peft trl triton cut_cross_entropy unsloth_zoo\n",
    "    !pip install sentencepiece protobuf datasets huggingface_hub hf_transfer\n",
    "    !pip install --no-deps unsloth\n",
    "# Install latest Hugging Face for Gemma-3!\n",
    "!pip install --no-deps git+https://github.com/huggingface/transformers@v4.49.0-Gemma-3"
   ]
  },
  {
   "cell_type": "code",
   "execution_count": 2,
   "id": "d11a5bf7-0a4e-440d-87ba-ecbe8d441959",
   "metadata": {},
   "outputs": [
    {
     "name": "stdout",
     "output_type": "stream",
     "text": [
      "🦥 Unsloth: Will patch your computer to enable 2x faster free finetuning.\n",
      "🦥 Unsloth Zoo will now patch everything to make training faster!\n",
      "INFO 03-15 09:47:58 [__init__.py:256] Automatically detected platform cuda.\n",
      "==((====))==  Unsloth 2025.3.14: Fast Qwen2 patching. Transformers: 4.50.0.dev0. vLLM: 0.7.4.dev473+g9ed6ee92.precompiled.\n",
      "   \\\\   /|    NVIDIA GeForce RTX 4090. Num GPUs = 1. Max memory: 23.643 GB. Platform: Linux.\n",
      "O^O/ \\_/ \\    Torch: 2.6.0+cu124. CUDA: 8.9. CUDA Toolkit: 12.4. Triton: 3.2.0\n",
      "\\        /    Bfloat16 = TRUE. FA [Xformers = 0.0.29.post2. FA2 = False]\n",
      " \"-____-\"     Free license: http://github.com/unslothai/unsloth\n",
      "Unsloth: Fast downloading is enabled - ignore downloading bars which are red colored!\n"
     ]
    }
   ],
   "source": [
    "import os\n",
    "os.environ['CUDA_VISIBLE_DEVICES'] = '0' # Choose any GPU you want to use\n",
    "import torch\n",
    "from unsloth import FastModel\n",
    "\n",
    "\n",
    "fourbit_models = [\n",
    "    # 4bit dynamic quants for superior accuracy and low memory use\n",
    "    \"unsloth/gemma-3-1b-it-unsloth-bnb-4bit\",\n",
    "    \"unsloth/gemma-3-4b-it-unsloth-bnb-4bit\",\n",
    "    \"unsloth/gemma-3-12b-it-unsloth-bnb-4bit\",\n",
    "    \"unsloth/gemma-3-27b-it-unsloth-bnb-4bit\",\n",
    "\n",
    "    # Other popular models!\n",
    "    \"unsloth/Llama-3.1-8B\",\n",
    "    \"unsloth/Llama-3.2-3B\",\n",
    "    \"unsloth/Llama-3.3-70B\",\n",
    "    \"unsloth/mistral-7b-instruct-v0.3\",\n",
    "    \"unsloth/Phi-4\",\n",
    "] # More models at https://huggingface.co/unsloth\n",
    "\n",
    "model, tokenizer = FastModel.from_pretrained(\n",
    "    model_name = \"unsloth/Qwen2.5-1.5B-Instruct\",\n",
    "    max_seq_length = 16_000, # Choose any for long context!\n",
    "    load_in_4bit = True,  # 4 bit quantization to reduce memory\n",
    "    load_in_8bit = False, # [NEW!] A bit more accurate, uses 2x memory\n",
    "    full_finetuning = False, # [NEW!] We have full finetuning now!\n",
    ")"
   ]
  },
  {
   "cell_type": "code",
   "execution_count": 34,
   "id": "b076f97f",
   "metadata": {},
   "outputs": [
    {
     "name": "stdout",
     "output_type": "stream",
     "text": [
      "==((====))==  Unsloth 2025.3.14: Fast Qwen2 patching. Transformers: 4.50.0.dev0. vLLM: 0.7.4.dev473+g9ed6ee92.precompiled.\n",
      "   \\\\   /|    NVIDIA GeForce RTX 4090. Num GPUs = 1. Max memory: 23.643 GB. Platform: Linux.\n",
      "O^O/ \\_/ \\    Torch: 2.6.0+cu124. CUDA: 8.9. CUDA Toolkit: 12.4. Triton: 3.2.0\n",
      "\\        /    Bfloat16 = TRUE. FA [Xformers = 0.0.29.post2. FA2 = False]\n",
      " \"-____-\"     Free license: http://github.com/unslothai/unsloth\n",
      "Unsloth: Fast downloading is enabled - ignore downloading bars which are red colored!\n"
     ]
    }
   ],
   "source": [
    "# model = FastModel.get_peft_model(\n",
    "#     model,\n",
    "#     finetune_vision_layers     = False, # Turn off for just text!\n",
    "#     finetune_language_layers   = True,  # Should leave on!\n",
    "#     finetune_attention_modules = True,  # Attention good for GRPO\n",
    "#     finetune_mlp_modules       = True,  # SHould leave on always!\n",
    "\n",
    "#     r = 8,           # Larger = higher accuracy, but might overfit\n",
    "#     lora_alpha = 8,  # Recommended alpha == r at least\n",
    "#     lora_dropout = 0,\n",
    "#     bias = \"none\",\n",
    "#     random_state = 3407,\n",
    "# )\n",
    "from unsloth import FastModel\n",
    "model, tokenizer = FastModel.from_pretrained(\n",
    "    model_name = \"outputs/lora/Qwen2.5-1.5B-Instruct-LORA-MATH\", # YOUR MODEL YOU USED FOR TRAINING\n",
    "    max_seq_length = 2048,\n",
    "    load_in_4bit = True,\n",
    ")"
   ]
  },
  {
   "cell_type": "code",
   "execution_count": null,
   "id": "a4ff42fd",
   "metadata": {},
   "outputs": [
    {
     "data": {
      "text/plain": [
       "('outputs/lora/Qwen2.5-1.5B-Instruct-LORA-MATH-merge/tokenizer_config.json',\n",
       " 'outputs/lora/Qwen2.5-1.5B-Instruct-LORA-MATH-merge/special_tokens_map.json',\n",
       " 'outputs/lora/Qwen2.5-1.5B-Instruct-LORA-MATH-merge/vocab.json',\n",
       " 'outputs/lora/Qwen2.5-1.5B-Instruct-LORA-MATH-merge/merges.txt',\n",
       " 'outputs/lora/Qwen2.5-1.5B-Instruct-LORA-MATH-merge/added_tokens.json',\n",
       " 'outputs/lora/Qwen2.5-1.5B-Instruct-LORA-MATH-merge/tokenizer.json')"
      ]
     },
     "execution_count": 7,
     "metadata": {},
     "output_type": "execute_result"
    }
   ],
   "source": [
    "def merge_and_save_lora(\n",
    "    base_model_name: str, lora_path: str, output_path: str = None\n",
    ") -> None:\n",
    "    \"\"\"\n",
    "    Merges a LoRA model with its base model and saves the result.\n",
    "\n",
    "    Args:\n",
    "        base_model_name: Name of the base model on HuggingFace Hub\n",
    "        lora_path: Local path to the LoRA adapter weights\n",
    "        output_path: Where to save the merged model (defaults to lora_path + \"-merged\")\n",
    "    \"\"\"\n",
    "    from peft import AutoPeftModelForCausalLM\n",
    "    from transformers import AutoTokenizer\n",
    "\n",
    "    if output_path is None:\n",
    "        output_path = f\"{lora_path}-merged\"\n",
    "\n",
    "    # Load the LoRA model\n",
    "    model = AutoPeftModelForCausalLM.from_pretrained(\n",
    "        lora_path, device_map=\"auto\", trust_remote_code=True\n",
    "    ).eval()\n",
    "\n",
    "    # Merge the LoRA weights with the base model\n",
    "    merged_model = model.merge_and_unload()\n",
    "\n",
    "    # Save the merged model\n",
    "    merged_model.save_pretrained(\n",
    "        output_path, max_shard_size=\"2048MB\", safe_serialization=True\n",
    "    )\n",
    "\n",
    "    # Save the tokenizer from the base model\n",
    "    tokenizer = AutoTokenizer.from_pretrained(base_model_name)\n",
    "    tokenizer.save_pretrained(output_path)\n",
    "\n",
    "    print(f\"Merged model saved to {output_path}\")\n",
    "\n",
    "\n",
    "# Example usage\n",
    "merge_and_save_lora(\n",
    "    base_model_name=\"Qwen/Qwen2.5-1.5B-Instruct\",\n",
    "    lora_path=\"outputs/lora/Qwen2.5-1.5B-Instruct-LORA-MATH\",\n",
    ")"
   ]
  },
  {
   "cell_type": "code",
   "execution_count": null,
   "id": "d9637968",
   "metadata": {},
   "outputs": [
    {
     "ename": "NameError",
     "evalue": "name 'AutoTokenizer' is not defined",
     "output_type": "error",
     "traceback": [
      "\u001b[31m---------------------------------------------------------------------------\u001b[39m",
      "\u001b[31mNameError\u001b[39m                                 Traceback (most recent call last)",
      "\u001b[36mCell\u001b[39m\u001b[36m \u001b[39m\u001b[32mIn[1]\u001b[39m\u001b[32m, line 1\u001b[39m\n\u001b[32m----> \u001b[39m\u001b[32m1\u001b[39m tokenizer = \u001b[43mAutoTokenizer\u001b[49m.from_pretrained(\u001b[33m'\u001b[39m\u001b[33moutputs/lora/Qwen2.5-1.5B-Instruct-LORA-MATH\u001b[39m\u001b[33m'\u001b[39m)\n\u001b[32m      2\u001b[39m tokenizer.save_pretrained(\u001b[33m'\u001b[39m\u001b[33moutputs/lora/Qwen2.5-1.5B-Instruct-LORA-MATH-merge\u001b[39m\u001b[33m'\u001b[39m)\n",
      "\u001b[31mNameError\u001b[39m: name 'AutoTokenizer' is not defined"
     ]
    }
   ],
   "source": []
  },
  {
   "cell_type": "code",
   "execution_count": 4,
   "id": "0a46c7c6",
   "metadata": {},
   "outputs": [],
   "source": [
    "from pyexpat.errors import messages\n",
    "from typing import Any\n",
    "from speedy_utils.all import *\n",
    "from datasets import load_dataset\n",
    "from unsloth.chat_templates import standardize_data_formats\n",
    "from datasets import Dataset\n",
    "\n",
    "\n",
    "def get_chat_dataset(\n",
    "    dataset_name: str, split: str = None, num_samples: int=None, tokenizer: Any = None\n",
    ") -> Any:\n",
    "    \"\"\"\n",
    "    Load and preprocess the dataset.\n",
    "\n",
    "    Args:\n",
    "        dataset_name (str): The name of the dataset to load.\n",
    "        split (str): The dataset split to load.\n",
    "        num_samples (int): The number of samples to select from the dataset.\n",
    "\n",
    "    Returns:\n",
    "        Any: The preprocessed dataset.\n",
    "    \"\"\"\n",
    "\n",
    "    if os.path.exists(dataset_name):\n",
    "        dataset = Dataset.from_json(dataset_name)\n",
    "    else:\n",
    "        dataset = load_dataset(dataset_name, split=split)\n",
    "    dataset = standardize_data_formats(dataset)\n",
    "\n",
    "    def apply_chat_template(examples):\n",
    "        messages_key = \"messages\" if \"messages\" in examples else \"conversations\"\n",
    "        texts = tokenizer.apply_chat_template(examples[messages_key], tokenize=False)\n",
    "        return {\"text\": texts}\n",
    "    if num_samples:\n",
    "        num_samples = min(num_samples, len(dataset))\n",
    "        dataset = dataset.shuffle(seed=42)\n",
    "        dataset = dataset.select(range(num_samples))\n",
    "    if tokenizer:\n",
    "        dataset = dataset.map(apply_chat_template, batched=True)\n",
    "    return dataset\n",
    "\n",
    "\n",
    "# Example usage\n",
    "dataset = get_chat_dataset(\"./data/cod_6k5.json\", tokenizer=tokenizer)"
   ]
  },
  {
   "cell_type": "code",
   "execution_count": 5,
   "id": "5e693a82",
   "metadata": {},
   "outputs": [
    {
     "name": "stderr",
     "output_type": "stream",
     "text": [
      "Detected kernel version 5.4.0, which is below the recommended minimum of 5.5.0; this can cause the process to hang. It is recommended to upgrade the kernel to the minimum version or higher.\n"
     ]
    }
   ],
   "source": [
    "\n",
    "\n",
    "\n",
    "from trl import SFTTrainer, SFTConfig\n",
    "trainer = SFTTrainer(\n",
    "    model = model,\n",
    "    tokenizer = tokenizer,\n",
    "    train_dataset = dataset,\n",
    "    eval_dataset = None, # Can set up evaluation!\n",
    "    args = SFTConfig(\n",
    "        dataset_num_proc=4,\n",
    "        dataset_text_field = \"text\",\n",
    "        per_device_train_batch_size = 4,\n",
    "        gradient_accumulation_steps = 8, # Use GA to mimic batch size!\n",
    "        warmup_steps = 5,\n",
    "        num_train_epochs = 1, # Set this for 1 full training run.\n",
    "        # max_steps = 1000,\n",
    "        learning_rate = 2e-4, # Reduce to 2e-5 for long training runs\n",
    "        logging_steps = 1,\n",
    "        optim = \"adamw_8bit\",\n",
    "        weight_decay = 0.01,\n",
    "        lr_scheduler_type = \"linear\",\n",
    "        seed = 3407,\n",
    "        report_to = \"none\", # Use this for WandB etc\n",
    "    ),\n",
    ")"
   ]
  },
  {
   "cell_type": "code",
   "execution_count": null,
   "id": "16cd842d",
   "metadata": {},
   "outputs": [],
   "source": [
    "print(tokenizer.decode(trainer.train_dataset[0]['input_ids']))"
   ]
  },
  {
   "cell_type": "code",
   "execution_count": null,
   "id": "0a68de14",
   "metadata": {},
   "outputs": [],
   "source": [
    "from unsloth.chat_templates import train_on_responses_only\n",
    "trainer = train_on_responses_only(\n",
    "    trainer,\n",
    "    instruction_part = \"<|im_start|>user\",\n",
    "    response_part = \"<|im_start|>assistant\",\n",
    ")"
   ]
  },
  {
   "cell_type": "code",
   "execution_count": null,
   "id": "bc10dff5",
   "metadata": {},
   "outputs": [],
   "source": [
    "trainer_stats = trainer.train()"
   ]
  },
  {
   "cell_type": "code",
   "execution_count": 11,
   "id": "4cce39a7",
   "metadata": {},
   "outputs": [
    {
     "name": "stdout",
     "output_type": "stream",
     "text": [
      "GPU = NVIDIA GeForce RTX 4090. Max memory = 23.643 GB.\n",
      "2.645 GB of memory reserved.\n"
     ]
    }
   ],
   "source": [
    "# @title Show current memory stats\n",
    "gpu_stats = torch.cuda.get_device_properties(0)\n",
    "start_gpu_memory = round(torch.cuda.max_memory_reserved() / 1024 / 1024 / 1024, 3)\n",
    "max_memory = round(gpu_stats.total_memory / 1024 / 1024 / 1024, 3)\n",
    "print(f\"GPU = {gpu_stats.name}. Max memory = {max_memory} GB.\")\n",
    "print(f\"{start_gpu_memory} GB of memory reserved.\")"
   ]
  },
  {
   "cell_type": "code",
   "execution_count": null,
   "id": "fec09490",
   "metadata": {},
   "outputs": [],
   "source": []
  },
  {
   "cell_type": "code",
   "execution_count": null,
   "id": "fd2c5135",
   "metadata": {},
   "outputs": [
    {
     "name": "stderr",
     "output_type": "stream",
     "text": [
      "Unsloth: Merging weights into 16bit:   0%|          | 0/1 [00:00<?, ?it/s]"
     ]
    },
    {
     "data": {
      "application/vnd.jupyter.widget-view+json": {
       "model_id": "863d5ed395914df1b46c0ff07524f532",
       "version_major": 2,
       "version_minor": 0
      },
      "text/plain": [
       "model.safetensors:   0%|          | 0.00/3.09G [00:00<?, ?B/s]"
      ]
     },
     "metadata": {},
     "output_type": "display_data"
    }
   ],
   "source": [
    "# model.save_pretrained('./outputs/lora/Qwen2.5-1.5B-Instruct-LORA-MATH')\n",
    "# model.save_pretrained_merged('./outputs/lora/Qwen2.5-1.5B-Instruct-LORA-MATH-merged', tokenizer=tokenizer)"
   ]
  },
  {
   "cell_type": "code",
   "execution_count": null,
   "id": "e65d0973",
   "metadata": {},
   "outputs": [],
   "source": [
    "# from llm_utils import get_conversation_one_turn\n",
    "\n",
    "\n",
    "# item = dataset[0]\n",
    "# # messages = item[\"messages\"][:-1]\n",
    "# messages = get_conversation_one_turn(None, 'hoàng sa của nước nào, hãy trả lời bằng tiếng việt')\n",
    "\n",
    "# text = tokenizer.apply_chat_template(\n",
    "#     messages,\n",
    "#     add_generation_prompt = True, # Must add for generation\n",
    "#     tokenize=False,nbs/test_unsloth.ipynbnbs/test_unsloth.ipynb˛˛\n",
    "# )\n",
    "# text += '<think>\\n'\n"
   ]
  },
  {
   "cell_type": "code",
   "execution_count": null,
   "id": "473e2cc5",
   "metadata": {},
   "outputs": [],
   "source": []
  },
  {
   "cell_type": "markdown",
   "id": "cd9e5d23",
   "metadata": {},
   "source": [
    "### VLLM INFerence"
   ]
  },
  {
   "cell_type": "code",
   "execution_count": null,
   "id": "e0020b46",
   "metadata": {},
   "outputs": [],
   "source": []
  }
 ],
 "metadata": {
  "kernelspec": {
   "display_name": "training",
   "language": "python",
   "name": "python3"
  },
  "language_info": {
   "codemirror_mode": {
    "name": "ipython",
    "version": 3
   },
   "file_extension": ".py",
   "mimetype": "text/x-python",
   "name": "python",
   "nbconvert_exporter": "python",
   "pygments_lexer": "ipython3",
   "version": "3.12.0"
  }
 },
 "nbformat": 4,
 "nbformat_minor": 5
}
