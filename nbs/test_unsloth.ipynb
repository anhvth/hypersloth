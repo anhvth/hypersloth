{
 "cells": [
  {
   "cell_type": "code",
   "execution_count": 4,
   "id": "171d506f-0422-4160-94e3-556d450f77e1",
   "metadata": {},
   "outputs": [],
   "source": [
    "%%capture\n",
    "%load_ext autoreload\n",
    "%autoreload 2\n",
    "%cd /home/ubuntu/projects/hyper-sloth"
   ]
  },
  {
   "cell_type": "code",
   "execution_count": 2,
   "id": "05b3046f",
   "metadata": {},
   "outputs": [],
   "source": [
    "%%capture\n",
    "import os\n",
    "if \"COLAB_\" not in \"\".join(os.environ.keys()):\n",
    "    !pip install unsloth\n",
    "else:\n",
    "    # Do this only in Colab notebooks! Otherwise use pip install unsloth\n",
    "    !pip install --no-deps bitsandbytes accelerate xformers==0.0.29.post3 peft trl triton cut_cross_entropy unsloth_zoo\n",
    "    !pip install sentencepiece protobuf datasets huggingface_hub hf_transfer\n",
    "    !pip install --no-deps unsloth\n",
    "# Install latest Hugging Face for Gemma-3!\n",
    "!pip install --no-deps git+https://github.com/huggingface/transformers@v4.49.0-Gemma-3"
   ]
  },
  {
   "cell_type": "code",
   "execution_count": 2,
   "id": "d11a5bf7-0a4e-440d-87ba-ecbe8d441959",
   "metadata": {},
   "outputs": [
    {
     "name": "stdout",
     "output_type": "stream",
     "text": [
      "🦥 Unsloth: Will patch your computer to enable 2x faster free finetuning.\n",
      "🦥 Unsloth Zoo will now patch everything to make training faster!\n",
      "INFO 03-15 09:10:39 [__init__.py:256] Automatically detected platform cuda.\n",
      "==((====))==  Unsloth 2025.3.14: Fast Qwen2 patching. Transformers: 4.50.0.dev0. vLLM: 0.7.4.dev473+g9ed6ee92.precompiled.\n",
      "   \\\\   /|    NVIDIA GeForce RTX 4090. Num GPUs = 1. Max memory: 23.643 GB. Platform: Linux.\n",
      "O^O/ \\_/ \\    Torch: 2.6.0+cu124. CUDA: 8.9. CUDA Toolkit: 12.4. Triton: 3.2.0\n",
      "\\        /    Bfloat16 = TRUE. FA [Xformers = 0.0.29.post2. FA2 = False]\n",
      " \"-____-\"     Free license: http://github.com/unslothai/unsloth\n",
      "Unsloth: Fast downloading is enabled - ignore downloading bars which are red colored!\n"
     ]
    }
   ],
   "source": [
    "import os\n",
    "os.environ['CUDA_VISIBLE_DEVICES'] = '0' # Choose any GPU you want to use\n",
    "import torch\n",
    "from unsloth import FastModel\n",
    "\n",
    "\n",
    "fourbit_models = [\n",
    "    # 4bit dynamic quants for superior accuracy and low memory use\n",
    "    \"unsloth/gemma-3-1b-it-unsloth-bnb-4bit\",\n",
    "    \"unsloth/gemma-3-4b-it-unsloth-bnb-4bit\",\n",
    "    \"unsloth/gemma-3-12b-it-unsloth-bnb-4bit\",\n",
    "    \"unsloth/gemma-3-27b-it-unsloth-bnb-4bit\",\n",
    "\n",
    "    # Other popular models!\n",
    "    \"unsloth/Llama-3.1-8B\",\n",
    "    \"unsloth/Llama-3.2-3B\",\n",
    "    \"unsloth/Llama-3.3-70B\",\n",
    "    \"unsloth/mistral-7b-instruct-v0.3\",\n",
    "    \"unsloth/Phi-4\",\n",
    "] # More models at https://huggingface.co/unsloth\n",
    "\n",
    "model, tokenizer = FastModel.from_pretrained(\n",
    "    model_name = \"unsloth/Qwen2.5-1.5B-Instruct\",\n",
    "    max_seq_length = 16_000, # Choose any for long context!\n",
    "    load_in_4bit = True,  # 4 bit quantization to reduce memory\n",
    "    load_in_8bit = False, # [NEW!] A bit more accurate, uses 2x memory\n",
    "    full_finetuning = False, # [NEW!] We have full finetuning now!\n",
    ")"
   ]
  },
  {
   "cell_type": "code",
   "execution_count": null,
   "id": "b076f97f",
   "metadata": {},
   "outputs": [],
   "source": [
    "model = FastModel.get_peft_model(\n",
    "    model,\n",
    "    finetune_vision_layers     = False, # Turn off for just text!\n",
    "    finetune_language_layers   = True,  # Should leave on!\n",
    "    finetune_attention_modules = True,  # Attention good for GRPO\n",
    "    finetune_mlp_modules       = True,  # SHould leave on always!\n",
    "\n",
    "    r = 8,           # Larger = higher accuracy, but might overfit\n",
    "    lora_alpha = 8,  # Recommended alpha == r at least\n",
    "    lora_dropout = 0,\n",
    "    bias = \"none\",\n",
    "    random_state = 3407,\n",
    ")"
   ]
  },
  {
   "cell_type": "code",
   "execution_count": 6,
   "id": "0a46c7c6",
   "metadata": {},
   "outputs": [
    {
     "data": {
      "application/vnd.jupyter.widget-view+json": {
       "model_id": "3e8b7891d5154825aa6d17f84016fe5f",
       "version_major": 2,
       "version_minor": 0
      },
      "text/plain": [
       "Generating train split: 0 examples [00:00, ? examples/s]"
      ]
     },
     "metadata": {},
     "output_type": "display_data"
    },
    {
     "data": {
      "application/vnd.jupyter.widget-view+json": {
       "model_id": "2855dc98b412410094012f9e5f75d07f",
       "version_major": 2,
       "version_minor": 0
      },
      "text/plain": [
       "Map:   0%|          | 0/6197 [00:00<?, ? examples/s]"
      ]
     },
     "metadata": {},
     "output_type": "display_data"
    }
   ],
   "source": [
    "from pyexpat.errors import messages\n",
    "from typing import Any\n",
    "from speedy_utils.all import *\n",
    "from datasets import load_dataset\n",
    "from unsloth.chat_templates import standardize_data_formats\n",
    "from datasets import Dataset\n",
    "\n",
    "\n",
    "def get_chat_dataset(\n",
    "    dataset_name: str, split: str = None, num_samples: int=None, tokenizer: Any = None\n",
    ") -> Any:\n",
    "    \"\"\"\n",
    "    Load and preprocess the dataset.\n",
    "\n",
    "    Args:\n",
    "        dataset_name (str): The name of the dataset to load.\n",
    "        split (str): The dataset split to load.\n",
    "        num_samples (int): The number of samples to select from the dataset.\n",
    "\n",
    "    Returns:\n",
    "        Any: The preprocessed dataset.\n",
    "    \"\"\"\n",
    "\n",
    "    if os.path.exists(dataset_name):\n",
    "        dataset = Dataset.from_json(dataset_name)\n",
    "    else:\n",
    "        dataset = load_dataset(dataset_name, split=split)\n",
    "    dataset = standardize_data_formats(dataset)\n",
    "\n",
    "    def apply_chat_template(examples):\n",
    "        messages_key = \"messages\" if \"messages\" in examples else \"conversations\"\n",
    "        texts = tokenizer.apply_chat_template(examples[messages_key], tokenize=False)\n",
    "        return {\"text\": texts}\n",
    "    if num_samples:\n",
    "        num_samples = min(num_samples, len(dataset))\n",
    "        dataset = dataset.shuffle(seed=42)\n",
    "        dataset = dataset.select(range(num_samples))\n",
    "    if tokenizer:\n",
    "        dataset = dataset.map(apply_chat_template, batched=True)\n",
    "    return dataset\n",
    "\n",
    "\n",
    "# Example usage\n",
    "dataset = get_chat_dataset(\"./data/cod_6k5.json\", tokenizer=tokenizer)"
   ]
  },
  {
   "cell_type": "code",
   "execution_count": 7,
   "id": "5e693a82",
   "metadata": {},
   "outputs": [
    {
     "data": {
      "application/vnd.jupyter.widget-view+json": {
       "model_id": "5d8b02a2d92347048bab2cd2a1e95d2d",
       "version_major": 2,
       "version_minor": 0
      },
      "text/plain": [
       "Unsloth: Tokenizing [\"text\"] (num_proc=4):   0%|          | 0/6197 [00:00<?, ? examples/s]"
      ]
     },
     "metadata": {},
     "output_type": "display_data"
    },
    {
     "name": "stderr",
     "output_type": "stream",
     "text": [
      "Detected kernel version 5.4.0, which is below the recommended minimum of 5.5.0; this can cause the process to hang. It is recommended to upgrade the kernel to the minimum version or higher.\n"
     ]
    }
   ],
   "source": [
    "\n",
    "\n",
    "\n",
    "from trl import SFTTrainer, SFTConfig\n",
    "trainer = SFTTrainer(\n",
    "    model = model,\n",
    "    tokenizer = tokenizer,\n",
    "    train_dataset = dataset,\n",
    "    eval_dataset = None, # Can set up evaluation!\n",
    "    args = SFTConfig(\n",
    "        dataset_num_proc=4,\n",
    "        dataset_text_field = \"text\",\n",
    "        per_device_train_batch_size = 4,\n",
    "        gradient_accumulation_steps = 8, # Use GA to mimic batch size!\n",
    "        warmup_steps = 5,\n",
    "        num_train_epochs = 1, # Set this for 1 full training run.\n",
    "        # max_steps = 1000,\n",
    "        learning_rate = 2e-4, # Reduce to 2e-5 for long training runs\n",
    "        logging_steps = 1,\n",
    "        optim = \"adamw_8bit\",\n",
    "        weight_decay = 0.01,\n",
    "        lr_scheduler_type = \"linear\",\n",
    "        seed = 3407,\n",
    "        report_to = \"none\", # Use this for WandB etc\n",
    "    ),\n",
    ")"
   ]
  },
  {
   "cell_type": "code",
   "execution_count": 8,
   "id": "16cd842d",
   "metadata": {},
   "outputs": [
    {
     "name": "stdout",
     "output_type": "stream",
     "text": [
      "<|im_start|>system\n",
      "You are Qwen, created by Alibaba Cloud. You are a helpful assistant.<|im_end|>\n",
      "<|im_start|>user\n",
      "For any positive integer $a$, let $\\tau(a)$ be the number of positive divisors of $a$. Find, with proof, the largest possible value of $4\\tau(n)-n$ over all positive integers $n$.<|im_end|>\n",
      "<|im_start|>assistant\n",
      "<think>\n",
      "Find max(4τ(n) - n). τ(n) divisors of n.\n",
      "\n",
      "Explore small n: pattern or intuition.\n",
      "\n",
      "n=1 to 32: compute 4τ(n) - n.\n",
      "\n",
      "Max observed: 12 at n=12.\n",
      "\n",
      "n=24: 4τ(24) - 24 = 8, which < 12.\n",
      "\n",
      "n=36: τ(36)=9, so 4*9-36=0.\n",
      "\n",
      "n=48: τ(48)=10, 4*10 - 48 = -8.\n",
      "\n",
      "n=60: τ(60)=12, 4*12 - 60 = -12.\n",
      "\n",
      "n=12 gives 12 (max).\n",
      "\n",
      "Check numbers between 12 and 60.\n",
      "\n",
      "Check n=24, 36, 48, etc., or revisit.\n",
      "\n",
      "n=16: 4τ(16) - 16 = 4, worse.\n",
      "\n",
      "Check larger numbers.\n",
      "\n",
      "n=60: 4τ(60) - 60 = -12.\n",
      "\n",
      "n=120: 4τ(120) - 120= -56.\n",
      "\n",
      "n=28: 4τ(28)-28=-4.\n",
      "\n",
      "Numbers with many prime factors?\n",
      "\n",
      "n=24=2³*3, τ(n) = 8, result is 8.\n",
      "\n",
      "n=2ᵏ: decreasing results.\n",
      "\n",
      "n=3*2ᵏ: similar pattern.\n",
      "\n",
      "n=30=2*3*5: τ(n)=8, result is 2.\n",
      "\n",
      "n=60=2²*3*5: negative result.\n",
      "\n",
      "n=6: τ(6)=4, result = 10.\n",
      "\n",
      "Two prime factors: n=12=2²*3 gives 12.\n",
      "\n",
      "n=18=2*3², result is 6.\n",
      "\n",
      "n=20=2²*5, result is 4.\n",
      "\n",
      "n=28, result negative.\n",
      "\n",
      "n=36: 4τ(36)-36=0.\n",
      "\n",
      "n=60, 4*12-60=-12.\n",
      "\n",
      "Hmm, negative.\n",
      "\n",
      "n=8=2³, 4*4-8=8.\n",
      "\n",
      "n=12 is better.\n",
      "\n",
      "Check values around n=12.\n",
      "\n",
      "n=12: 12.\n",
      "\n",
      "n=24: 8.\n",
      "\n",
      "n=6: 10.\n",
      "\n",
      "n=8: 8.\n",
      "\n",
      "n=4: 8.\n",
      "\n",
      "n=1: 3.\n",
      "\n",
      "n=2: 6.\n",
      "\n",
      "n=3: 5.\n",
      "\n",
      "n=5: 3.\n",
      "\n",
      "n=7: 1.\n",
      "\n",
      "n=9: 3.\n",
      "\n",
      "n=10: 6.\n",
      "\n",
      "n=11: -3.\n",
      "\n",
      "n=12 provides the highest value.\n",
      "\n",
      "Is there n>12 with better value?\n",
      "\n",
      "n=60, 4*τ(60)-60 < 0\n",
      "\n",
      "n=24: 4*τ(24)-24 = 8.\n",
      "\n",
      "n=48: 4*τ(48)-48 = -8.\n",
      "\n",
      "n=12: 12, potential maximum.\n",
      "\n",
      "Check values close to 12.\n",
      "\n",
      "n=12: 12.\n",
      "\n",
      "n=13: -5.\n",
      "\n",
      "n=14: 2.\n",
      "\n",
      "n=15: 1.\n",
      "\n",
      "n=16: 4.\n",
      "\n",
      "n=17: -9.\n",
      "\n",
      "n=18: 6.\n",
      "\n",
      "n=19: -11.\n",
      "\n",
      "n=20: 4.\n",
      "\n",
      "n=21: -5.\n",
      "\n",
      "n=22: -6.\n",
      "\n",
      "n=23: -15.\n",
      "\n",
      "n=24: 8.\n",
      "\n",
      "n=12 highest between 12-24.\n",
      "\n",
      "n=28: -4.\n",
      "\n",
      "n=36: 0.\n",
      "\n",
      "n=40: -8.\n",
      "\n",
      "n=44: -20.\n",
      "\n",
      "n=30: 2.\n",
      "\n",
      "n=32: -8.\n",
      "\n",
      "Recheck n=12: value is 12.\n",
      "\n",
      "Is 4τ(n)-n > 12 for large n?\n",
      "\n",
      "τ(n) grows slower than n.\n",
      "\n",
      "Check more values.\n",
      "\n",
      "n=36: 0\n",
      "\n",
      "n=48: -8.\n",
      "\n",
      "n=60: -12.\n",
      "\n",
      "n=120: -5\n"
     ]
    }
   ],
   "source": [
    "print(tokenizer.decode(trainer.train_dataset[0]['input_ids']))"
   ]
  },
  {
   "cell_type": "code",
   "execution_count": 9,
   "id": "0a68de14",
   "metadata": {},
   "outputs": [
    {
     "data": {
      "application/vnd.jupyter.widget-view+json": {
       "model_id": "80ba13b22e044d089d7c2167277f6455",
       "version_major": 2,
       "version_minor": 0
      },
      "text/plain": [
       "Map (num_proc=96):   0%|          | 0/6197 [00:00<?, ? examples/s]"
      ]
     },
     "metadata": {},
     "output_type": "display_data"
    }
   ],
   "source": [
    "from unsloth.chat_templates import train_on_responses_only\n",
    "trainer = train_on_responses_only(\n",
    "    trainer,\n",
    "    instruction_part = \"<|im_start|>user\",\n",
    "    response_part = \"<|im_start|>assistant\",\n",
    ")"
   ]
  },
  {
   "cell_type": "code",
   "execution_count": 10,
   "id": "bc10dff5",
   "metadata": {},
   "outputs": [],
   "source": [
    "trainer_stats = trainer.train()"
   ]
  },
  {
   "cell_type": "code",
   "execution_count": 11,
   "id": "4cce39a7",
   "metadata": {},
   "outputs": [
    {
     "name": "stdout",
     "output_type": "stream",
     "text": [
      "GPU = NVIDIA GeForce RTX 4090. Max memory = 23.643 GB.\n",
      "2.645 GB of memory reserved.\n"
     ]
    }
   ],
   "source": [
    "# @title Show current memory stats\n",
    "gpu_stats = torch.cuda.get_device_properties(0)\n",
    "start_gpu_memory = round(torch.cuda.max_memory_reserved() / 1024 / 1024 / 1024, 3)\n",
    "max_memory = round(gpu_stats.total_memory / 1024 / 1024 / 1024, 3)\n",
    "print(f\"GPU = {gpu_stats.name}. Max memory = {max_memory} GB.\")\n",
    "print(f\"{start_gpu_memory} GB of memory reserved.\")"
   ]
  },
  {
   "cell_type": "code",
   "execution_count": 12,
   "id": "fd2c5135",
   "metadata": {},
   "outputs": [],
   "source": [
    "model.save_pretrained('./outputs/lora/Qwen2.5-1.5B-Instruct-LORA-MATH')"
   ]
  },
  {
   "cell_type": "code",
   "execution_count": 23,
   "id": "e65d0973",
   "metadata": {},
   "outputs": [],
   "source": [
    "# from llm_utils import get_conversation_one_turn\n",
    "\n",
    "\n",
    "# item = dataset[0]\n",
    "# # messages = item[\"messages\"][:-1]\n",
    "# messages = get_conversation_one_turn(None, 'hoàng sa của nước nào, hãy trả lời bằng tiếng việt')\n",
    "\n",
    "# text = tokenizer.apply_chat_template(\n",
    "#     messages,\n",
    "#     add_generation_prompt = True, # Must add for generation\n",
    "#     tokenize=False,\n",
    "# )\n",
    "# text += '<think>\\n'\n"
   ]
  },
  {
   "cell_type": "code",
   "execution_count": 24,
   "id": "40e2b358",
   "metadata": {},
   "outputs": [],
   "source": [
    "\n",
    "\n",
    "# from transformers import TextStreamer\n",
    "# with torch.inference_mode():\n",
    "#     _ = model.generate(\n",
    "#         **tokenizer([text], return_tensors = \"pt\").to(\"cuda\"),\n",
    "#         max_new_tokens = 6400, # Increase for longer outputs!\n",
    "#         # Recommended Gemma-3 settings!\n",
    "#         temperature = 1.0, top_p = 0.95, top_k = 64,\n",
    "#         streamer = TextStreamer(tokenizer, skip_prompt = False),\n",
    "#     )"
   ]
  },
  {
   "cell_type": "code",
   "execution_count": null,
   "id": "473e2cc5",
   "metadata": {},
   "outputs": [],
   "source": []
  },
  {
   "cell_type": "code",
   "execution_count": 25,
   "id": "22709fa8",
   "metadata": {},
   "outputs": [
    {
     "name": "stdout",
     "output_type": "stream",
     "text": [
      "Downloading safetensors index for unsloth/qwen2.5-14b-instruct...\n"
     ]
    },
    {
     "data": {
      "application/vnd.jupyter.widget-view+json": {
       "model_id": "df6bd0fcf9cd4c6a88080bee170e501d",
       "version_major": 2,
       "version_minor": 0
      },
      "text/plain": [
       "model.safetensors.index.json:   0%|          | 0.00/47.5k [00:00<?, ?B/s]"
      ]
     },
     "metadata": {},
     "output_type": "display_data"
    },
    {
     "name": "stderr",
     "output_type": "stream",
     "text": [
      "Unsloth: Merging weights into 16bit:   0%|          | 0/6 [00:00<?, ?it/s]"
     ]
    },
    {
     "data": {
      "application/vnd.jupyter.widget-view+json": {
       "model_id": "11aac0517b5c47feb5bcf6668f27efd7",
       "version_major": 2,
       "version_minor": 0
      },
      "text/plain": [
       "model-00001-of-00006.safetensors:   0%|          | 0.00/4.99G [00:00<?, ?B/s]"
      ]
     },
     "metadata": {},
     "output_type": "display_data"
    },
    {
     "name": "stderr",
     "output_type": "stream",
     "text": [
      "Unsloth: Merging weights into 16bit:  17%|█▋        | 1/6 [00:57<04:48, 57.71s/it]"
     ]
    },
    {
     "data": {
      "application/vnd.jupyter.widget-view+json": {
       "model_id": "56e2c1d4af1d40b8bd37e90e22bb237f",
       "version_major": 2,
       "version_minor": 0
      },
      "text/plain": [
       "model-00002-of-00006.safetensors:   0%|          | 0.00/4.95G [00:00<?, ?B/s]"
      ]
     },
     "metadata": {},
     "output_type": "display_data"
    },
    {
     "name": "stderr",
     "output_type": "stream",
     "text": [
      "Unsloth: Merging weights into 16bit:  33%|███▎      | 2/6 [01:57<03:55, 58.76s/it]"
     ]
    },
    {
     "data": {
      "application/vnd.jupyter.widget-view+json": {
       "model_id": "e489f3cbe70d4a52a540e598630c93b7",
       "version_major": 2,
       "version_minor": 0
      },
      "text/plain": [
       "model-00003-of-00006.safetensors:   0%|          | 0.00/4.95G [00:00<?, ?B/s]"
      ]
     },
     "metadata": {},
     "output_type": "display_data"
    },
    {
     "name": "stderr",
     "output_type": "stream",
     "text": [
      "Unsloth: Merging weights into 16bit:  50%|█████     | 3/6 [02:51<02:50, 56.77s/it]"
     ]
    },
    {
     "data": {
      "application/vnd.jupyter.widget-view+json": {
       "model_id": "9d14d468ecab49b1875bec5d1dc0b2df",
       "version_major": 2,
       "version_minor": 0
      },
      "text/plain": [
       "model-00004-of-00006.safetensors:   0%|          | 0.00/4.95G [00:00<?, ?B/s]"
      ]
     },
     "metadata": {},
     "output_type": "display_data"
    },
    {
     "name": "stderr",
     "output_type": "stream",
     "text": [
      "Unsloth: Merging weights into 16bit:  67%|██████▋   | 4/6 [03:47<01:52, 56.47s/it]"
     ]
    },
    {
     "data": {
      "application/vnd.jupyter.widget-view+json": {
       "model_id": "ec483abfcbca4e5faac19e10b2b40c09",
       "version_major": 2,
       "version_minor": 0
      },
      "text/plain": [
       "model-00005-of-00006.safetensors:   0%|          | 0.00/4.95G [00:00<?, ?B/s]"
      ]
     },
     "metadata": {},
     "output_type": "display_data"
    },
    {
     "name": "stderr",
     "output_type": "stream",
     "text": [
      "Unsloth: Merging weights into 16bit:  83%|████████▎ | 5/6 [04:44<00:56, 56.69s/it]"
     ]
    },
    {
     "data": {
      "application/vnd.jupyter.widget-view+json": {
       "model_id": "de047392a13a483caf55c6e61a227334",
       "version_major": 2,
       "version_minor": 0
      },
      "text/plain": [
       "model-00006-of-00006.safetensors:   0%|          | 0.00/4.73G [00:00<?, ?B/s]"
      ]
     },
     "metadata": {},
     "output_type": "display_data"
    },
    {
     "name": "stderr",
     "output_type": "stream",
     "text": [
      "Unsloth: Merging weights into 16bit: 100%|██████████| 6/6 [05:38<00:00, 56.36s/it]\n"
     ]
    }
   ],
   "source": [
    "model.save_pretrained_merged(\"mymodel\", tokenizer)"
   ]
  },
  {
   "cell_type": "markdown",
   "id": "cd9e5d23",
   "metadata": {},
   "source": [
    "### VLLM INFerence"
   ]
  },
  {
   "cell_type": "code",
   "execution_count": null,
   "id": "e0020b46",
   "metadata": {},
   "outputs": [],
   "source": []
  }
 ],
 "metadata": {
  "kernelspec": {
   "display_name": "training",
   "language": "python",
   "name": "python3"
  },
  "language_info": {
   "codemirror_mode": {
    "name": "ipython",
    "version": 3
   },
   "file_extension": ".py",
   "mimetype": "text/x-python",
   "name": "python",
   "nbconvert_exporter": "python",
   "pygments_lexer": "ipython3",
   "version": "3.12.0"
  }
 },
 "nbformat": 4,
 "nbformat_minor": 5
}
