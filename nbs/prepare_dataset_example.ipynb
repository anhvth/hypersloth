{
 "cells": [
  {
   "cell_type": "code",
   "execution_count": 1,
   "metadata": {},
   "outputs": [],
   "source": [
    "from datasets import load_dataset\n",
    "from transformers import AutoTokenizer"
   ]
  },
  {
   "cell_type": "markdown",
   "metadata": {},
   "source": [
    "# Refeence format\n",
    "https://cookbook.openai.com/examples/how_to_format_inputs_to_chatgpt_models"
   ]
  },
  {
   "cell_type": "markdown",
   "metadata": {},
   "source": [
    "# alpaca-cleaned"
   ]
  },
  {
   "cell_type": "code",
   "execution_count": 2,
   "metadata": {},
   "outputs": [
    {
     "data": {
      "application/vnd.jupyter.widget-view+json": {
       "model_id": "5aa5cbe61e464c1180d049efedae3ab8",
       "version_major": 2,
       "version_minor": 0
      },
      "text/plain": [
       "Saving the dataset (0/1 shards):   0%|          | 0/51760 [00:00<?, ? examples/s]"
      ]
     },
     "metadata": {},
     "output_type": "display_data"
    },
    {
     "data": {
      "text/plain": [
       "Dataset({\n",
       "    features: ['output', 'input', 'instruction', 'messages'],\n",
       "    num_rows: 51760\n",
       "})"
      ]
     },
     "execution_count": 2,
     "metadata": {},
     "output_type": "execute_result"
    }
   ],
   "source": [
    "# Expected dataset have openai-like messages format\n",
    "\n",
    "dataset = load_dataset('yahma/alpaca-cleaned', split='train')\n",
    "\n",
    "one_row = dataset[0]\n",
    "def get_messages(one_row):\n",
    "    # return openai messages format\n",
    "    # Expected is a list of dictionaries with the keys \"role\" and \"content\", roles are \"user\" and \"assistant\" or system, note that gemma models does not support system role\n",
    "    messages = [\n",
    "        {\"role\": \"user\", \"content\": one_row[\"instruction\"] + one_row[\"input\"]},\n",
    "        {\"role\": \"assistant\", \"content\": one_row[\"output\"]},\n",
    "    ]\n",
    "    \n",
    "    return {\"messages\": messages}\n",
    "\n",
    "# Apply the chat template to each example in the dataset\n",
    "dataset = dataset.map(get_messages)\n",
    "dataset.save_to_disk('../data/alpaca-cleaned')\n",
    "dataset"
   ]
  },
  {
   "cell_type": "markdown",
   "metadata": {},
   "source": [
    "# OpenO1-SFT"
   ]
  },
  {
   "cell_type": "code",
   "execution_count": null,
   "metadata": {},
   "outputs": [
    {
     "name": "stdout",
     "output_type": "stream",
     "text": [
      "{'instruction': \"Consider a regular octagon. How many different triangles can be formed if the octagon is placed inside a circle and we can also use the center of the circle as a vertex for the triangles? Let's think step by step.\", 'output': \"<Thought>\\nAlright, I need to figure out how many different triangles can be formed in a regular octagon that's placed inside a circle, with the added twist that the center of the circle can also be used as a vertex for the triangles. Let's break this down step by step.\\n\\nFirst, let's recall that a regular octagon has 8 equal sides and 8 equal angles. Since it's placed inside a circle, each vertex of the octagon lies on the circumference of the circle. Additionally, we have the center of the circle as an extra point that can be used as a vertex for forming triangles.\\n\\nSo, in total, we have 9 points to consider: the 8 vertices of the octagon and the center of the circle.\\n\\nNow, to form a triangle, we need to select any 3 of these 9 points. The number of ways to choose 3 points out of 9 is given by the combination formula C(n, k) = n! / (k!(n-k)!), where n is the total number of points and k is the number of points to choose.\\n\\nCalculating C(9, 3):\\nC(9, 3) = 9! / (3! * (9-3)!) = (9 * 8 * 7) / (3 * 2 * 1) = 84.\\n\\nSo, there are 84 possible triangles if we consider all combinations of the 9 points.\\n\\nBut wait, let's make sure we're not missing anything. Are there any restrictions or special cases? For instance, could any three points be collinear, making them unable to form a triangle? In a regular octagon inscribed in a circle, no three vertices are collinear because the angles between consecutive vertices are 45 degrees, and no three points on the circumference of a circle are collinear unless they lie on a straight line, which doesn't happen here. Additionally, including the center doesn't introduce any collinearity issues because the center is equidistant from all vertices, and connecting it with any two vertices forms a triangle.\\n\\nTherefore, all 84 combinations of 3 points will indeed form valid triangles.\\n\\nBut let's double-check by considering different scenarios:\\n1. Triangles formed by three vertices of the octagon.\\n2. Triangles formed by two vertices and the center.\\n3. Triangles formed by one vertex, the center, and another point (but since we only have the center and the vertices, this is covered in the previous points).\\n\\nCalculating each scenario separately:\\n1. Number of triangles with three vertices: C(8, 3) = 56.\\n2. Number of triangles with two vertices and the center: C(8, 2) = 28.\\n3. Since there's only one center, and we've already accounted for triangles with two vertices and the center, there are no additional triangles to consider.\\n\\nAdding these up: 56 + 28 = 84, which matches our initial calculation.\\n\\nIs there any other consideration? Perhaps symmetry or identical triangles? In a regular octagon, due to its symmetry, some triangles might be congruent, but the question asks for different triangles, not necessarily unique in shape or size. So, even if some triangles are congruent, they are still counted as different if they consist of different sets of points.\\n\\nTherefore, the total number of different triangles that can be formed is 84.\\n\\n</Thought>\\n<Output>\\n84 different triangles can be formed.\\n</Output>\"}\n"
     ]
    }
   ],
   "source": []
  },
  {
   "cell_type": "code",
   "execution_count": 3,
   "metadata": {},
   "outputs": [
    {
     "name": "stdout",
     "output_type": "stream",
     "text": [
      "{'instruction': \"Consider a regular octagon. How many different triangles can be formed if the octagon is placed inside a circle and we can also use the center of the circle as a vertex for the triangles? Let's think step by step.\", 'output': \"<Thought>\\nAlright, I need to figure out how many different triangles can be formed in a regular octagon that's placed inside a circle, with the added twist that the center of the circle can also be used as a vertex for the triangles. Let's break this down step by step.\\n\\nFirst, let's recall that a regular octagon has 8 equal sides and 8 equal angles. Since it's placed inside a circle, each vertex of the octagon lies on the circumference of the circle. Additionally, we have the center of the circle as an extra point that can be used as a vertex for forming triangles.\\n\\nSo, in total, we have 9 points to consider: the 8 vertices of the octagon and the center of the circle.\\n\\nNow, to form a triangle, we need to select any 3 of these 9 points. The number of ways to choose 3 points out of 9 is given by the combination formula C(n, k) = n! / (k!(n-k)!), where n is the total number of points and k is the number of points to choose.\\n\\nCalculating C(9, 3):\\nC(9, 3) = 9! / (3! * (9-3)!) = (9 * 8 * 7) / (3 * 2 * 1) = 84.\\n\\nSo, there are 84 possible triangles if we consider all combinations of the 9 points.\\n\\nBut wait, let's make sure we're not missing anything. Are there any restrictions or special cases? For instance, could any three points be collinear, making them unable to form a triangle? In a regular octagon inscribed in a circle, no three vertices are collinear because the angles between consecutive vertices are 45 degrees, and no three points on the circumference of a circle are collinear unless they lie on a straight line, which doesn't happen here. Additionally, including the center doesn't introduce any collinearity issues because the center is equidistant from all vertices, and connecting it with any two vertices forms a triangle.\\n\\nTherefore, all 84 combinations of 3 points will indeed form valid triangles.\\n\\nBut let's double-check by considering different scenarios:\\n1. Triangles formed by three vertices of the octagon.\\n2. Triangles formed by two vertices and the center.\\n3. Triangles formed by one vertex, the center, and another point (but since we only have the center and the vertices, this is covered in the previous points).\\n\\nCalculating each scenario separately:\\n1. Number of triangles with three vertices: C(8, 3) = 56.\\n2. Number of triangles with two vertices and the center: C(8, 2) = 28.\\n3. Since there's only one center, and we've already accounted for triangles with two vertices and the center, there are no additional triangles to consider.\\n\\nAdding these up: 56 + 28 = 84, which matches our initial calculation.\\n\\nIs there any other consideration? Perhaps symmetry or identical triangles? In a regular octagon, due to its symmetry, some triangles might be congruent, but the question asks for different triangles, not necessarily unique in shape or size. So, even if some triangles are congruent, they are still counted as different if they consist of different sets of points.\\n\\nTherefore, the total number of different triangles that can be formed is 84.\\n\\n</Thought>\\n<Output>\\n84 different triangles can be formed.\\n</Output>\"}\n"
     ]
    },
    {
     "data": {
      "application/vnd.jupyter.widget-view+json": {
       "model_id": "0f2e434a7ef448489065a5bbdf7434c3",
       "version_major": 2,
       "version_minor": 0
      },
      "text/plain": [
       "Saving the dataset (0/1 shards):   0%|          | 0/5000 [00:00<?, ? examples/s]"
      ]
     },
     "metadata": {},
     "output_type": "display_data"
    },
    {
     "data": {
      "application/vnd.jupyter.widget-view+json": {
       "model_id": "04dbf7674e0d43f5bd3eb5ac5fc9cc9e",
       "version_major": 2,
       "version_minor": 0
      },
      "text/plain": [
       "Saving the dataset (0/1 shards):   0%|          | 0/1000 [00:00<?, ? examples/s]"
      ]
     },
     "metadata": {},
     "output_type": "display_data"
    },
    {
     "data": {
      "text/plain": [
       "Dataset({\n",
       "    features: ['instruction', 'output', 'messages'],\n",
       "    num_rows: 6000\n",
       "})"
      ]
     },
     "execution_count": 3,
     "metadata": {},
     "output_type": "execute_result"
    }
   ],
   "source": [
    "dataset = \"O1-OPEN/OpenO1-SFT\"\n",
    "# Expected dataset have openai-like messages format\n",
    "\n",
    "dataset = load_dataset(dataset, split='train')\n",
    "one_row = dataset[0]\n",
    "print(one_row)\n",
    "\n",
    "\n",
    "def get_messages(one_row):\n",
    "    # return openai messages format\n",
    "    # Expected is a list of dictionaries with the keys \"role\" and \"content\", roles are \"user\" and \"assistant\" or system, note that gemma models does not support system role\n",
    "    messages = [\n",
    "        {\"role\": \"user\", \"content\": one_row[\"instruction\"]},\n",
    "        {\"role\": \"assistant\", \"content\": one_row[\"output\"]},\n",
    "    ]\n",
    "    \n",
    "    return {\"messages\": messages}\n",
    "\n",
    "# Apply the chat template to each example in the dataset\n",
    "dataset = dataset.map(get_messages)\n",
    "dataset = dataset.shuffle(42).select(range(6000),)\n",
    "dataset.select(range(0, 5000, 1)).save_to_disk('../data/OpenO1-SFT-5k')\n",
    "dataset.select(range(5000, 6000, 1)).save_to_disk('../data/OpenO1-SFT-1k')\n",
    "dataset"
   ]
  },
  {
   "cell_type": "code",
   "execution_count": 14,
   "metadata": {},
   "outputs": [
    {
     "data": {
      "text/plain": [
       "{'instruction': 'Anita, Indu and Geeta can do a piece of work in 18 days, 27 days and 36 days respectively. They start working together. After working for 4 days, Anita goes away and Indu leaves 7 days before the work is finished. Only Geeta remains at work from beginning till end. In how many days was the whole work done?',\n",
       " 'output': \"<Thought>\\nAlright, I need to figure out how long it took for Anita, Indu, and Geeta to complete the work under the given conditions. Let's break down the information step by step. \\n\\nFirst, Anita can complete the work in 18 days, Indu in 27 days, and Geeta in 36 days. So their individual work rates are:\\n- Anita: 1/18 work per day\\n- Indu: 1/27 work per day\\n- Geeta: 1/36 work per day\\n\\nThey start working together, which means their combined work rate initially is 1/18 + 1/27 + 1/36. I need to calculate this sum. Let's find a common denominator for 18, 27, and 36. The least common multiple of these numbers is 108. \\n\\nSo,\\n1/18 = 6/108\\n1/27 = 4/108\\n1/36 = 3/108\\n\\nAdding them up: 6/108 + 4/108 + 3/108 = 13/108 work per day.\\n\\nThey work together for 4 days. So in these 4 days, they complete 4 * 13/108 = 52/108 of the work. Simplifying, that's 13/27 of the work done.\\n\\nAfter 4 days, Anita goes away. So now, only Indu and Geeta are working. Let's find their combined work rate:\\n1/27 + 1/36. Again, find a common denominator, which is 108.\\n1/27 = 4/108\\n1/36 = 3/108\\nCombined work rate = 4/108 + 3/108 = 7/108 work per day.\\n\\nBut Indu leaves 7 days before the work is finished. Hmm, this part is tricky. Let's assume the total time taken to complete the work is T days. Anita leaves after 4 days, and Indu leaves at T - 7 days.\\n\\nSo Geeta works the entire T days. Indu works from day 1 to day T - 7, which is (T - 7) days. Anita works only the first 4 days.\\n\\nLet's express the total work done as the sum of work done by each individual:\\n- Anita: 4 days * (1/18) = 4/18 = 2/9\\n- Indu: (T - 7) days * (1/27)\\n- Geeta: T days * (1/36)\\n\\nSo total work: 2/9 + (T - 7)/27 + T/36 = 1 (complete work).\\n\\nLet's simplify this equation:\\nFirst, find the common denominator, which is 108.\\n2/9 = 24/108\\n(T - 7)/27 = 4(T - 7)/108 = (4T - 28)/108\\nT/36 = 3T/108\\n\\nAdding them up: 24/108 + (4T - 28)/108 + 3T/108 = 1\\nCombine like terms: (4T + 3T + 24 - 28) / 108 = 1\\n7T - 4 = 108\\n7T = 112\\nT = 16 days\\n\\nWait, but the problem says Indu leaves 7 days before the work is finished. If the total time is 16 days, Indu works for 16 - 7 = 9 days. Let's check if this makes sense.\\n\\nWork done by Anita: 4/18 = 2/9\\nWork done by Indu: 9/27 = 1/3\\nWork done by Geeta: 16/36 = 4/9\\n\\nAdding them up: 2/9 + 1/3 + 4/9 = 2/9 + 3/9 + 4/9 = 9/9 = 1. It checks out.\\n\\nSo the whole work was done in 16 days.\\n\\nBut wait, could I have made any mistakes here? Let's see. The initial calculations seem correct. I accounted for when each person was working and their respective contributions. The final check adds up to the whole work, so it seems accurate.\\n\\nLet me think differently: suppose I consider Geeta's continuous work and the varying contributions of Anita and Indu. Maybe setting up the equation differently could provide the same result, but given that the first method worked, it's probably correct.\\n\\nAnother thought: could I have used ratios or proportions differently? Maybe, but the algebraic method seems straightforward for this problem.\\n\\nIn conclusion, after breaking down each person's contribution and setting up the equation correctly, the total time taken to complete the work is 16 days.\\n\\n</Thought>\\n<Output>\\nThe whole work was done in 16 days.\\n</Output>\",\n",
       " 'messages': [{'content': 'Anita, Indu and Geeta can do a piece of work in 18 days, 27 days and 36 days respectively. They start working together. After working for 4 days, Anita goes away and Indu leaves 7 days before the work is finished. Only Geeta remains at work from beginning till end. In how many days was the whole work done?',\n",
       "   'role': 'user'},\n",
       "  {'content': \"<Thought>\\nAlright, I need to figure out how long it took for Anita, Indu, and Geeta to complete the work under the given conditions. Let's break down the information step by step. \\n\\nFirst, Anita can complete the work in 18 days, Indu in 27 days, and Geeta in 36 days. So their individual work rates are:\\n- Anita: 1/18 work per day\\n- Indu: 1/27 work per day\\n- Geeta: 1/36 work per day\\n\\nThey start working together, which means their combined work rate initially is 1/18 + 1/27 + 1/36. I need to calculate this sum. Let's find a common denominator for 18, 27, and 36. The least common multiple of these numbers is 108. \\n\\nSo,\\n1/18 = 6/108\\n1/27 = 4/108\\n1/36 = 3/108\\n\\nAdding them up: 6/108 + 4/108 + 3/108 = 13/108 work per day.\\n\\nThey work together for 4 days. So in these 4 days, they complete 4 * 13/108 = 52/108 of the work. Simplifying, that's 13/27 of the work done.\\n\\nAfter 4 days, Anita goes away. So now, only Indu and Geeta are working. Let's find their combined work rate:\\n1/27 + 1/36. Again, find a common denominator, which is 108.\\n1/27 = 4/108\\n1/36 = 3/108\\nCombined work rate = 4/108 + 3/108 = 7/108 work per day.\\n\\nBut Indu leaves 7 days before the work is finished. Hmm, this part is tricky. Let's assume the total time taken to complete the work is T days. Anita leaves after 4 days, and Indu leaves at T - 7 days.\\n\\nSo Geeta works the entire T days. Indu works from day 1 to day T - 7, which is (T - 7) days. Anita works only the first 4 days.\\n\\nLet's express the total work done as the sum of work done by each individual:\\n- Anita: 4 days * (1/18) = 4/18 = 2/9\\n- Indu: (T - 7) days * (1/27)\\n- Geeta: T days * (1/36)\\n\\nSo total work: 2/9 + (T - 7)/27 + T/36 = 1 (complete work).\\n\\nLet's simplify this equation:\\nFirst, find the common denominator, which is 108.\\n2/9 = 24/108\\n(T - 7)/27 = 4(T - 7)/108 = (4T - 28)/108\\nT/36 = 3T/108\\n\\nAdding them up: 24/108 + (4T - 28)/108 + 3T/108 = 1\\nCombine like terms: (4T + 3T + 24 - 28) / 108 = 1\\n7T - 4 = 108\\n7T = 112\\nT = 16 days\\n\\nWait, but the problem says Indu leaves 7 days before the work is finished. If the total time is 16 days, Indu works for 16 - 7 = 9 days. Let's check if this makes sense.\\n\\nWork done by Anita: 4/18 = 2/9\\nWork done by Indu: 9/27 = 1/3\\nWork done by Geeta: 16/36 = 4/9\\n\\nAdding them up: 2/9 + 1/3 + 4/9 = 2/9 + 3/9 + 4/9 = 9/9 = 1. It checks out.\\n\\nSo the whole work was done in 16 days.\\n\\nBut wait, could I have made any mistakes here? Let's see. The initial calculations seem correct. I accounted for when each person was working and their respective contributions. The final check adds up to the whole work, so it seems accurate.\\n\\nLet me think differently: suppose I consider Geeta's continuous work and the varying contributions of Anita and Indu. Maybe setting up the equation differently could provide the same result, but given that the first method worked, it's probably correct.\\n\\nAnother thought: could I have used ratios or proportions differently? Maybe, but the algebraic method seems straightforward for this problem.\\n\\nIn conclusion, after breaking down each person's contribution and setting up the equation correctly, the total time taken to complete the work is 16 days.\\n\\n</Thought>\\n<Output>\\nThe whole work was done in 16 days.\\n</Output>\",\n",
       "   'role': 'assistant'}]}"
      ]
     },
     "execution_count": 14,
     "metadata": {},
     "output_type": "execute_result"
    }
   ],
   "source": [
    "dataset[0]"
   ]
  },
  {
   "cell_type": "code",
   "execution_count": null,
   "metadata": {},
   "outputs": [],
   "source": []
  },
  {
   "cell_type": "code",
   "execution_count": null,
   "metadata": {},
   "outputs": [],
   "source": []
  }
 ],
 "metadata": {
  "kernelspec": {
   "display_name": "training",
   "language": "python",
   "name": "python3"
  },
  "language_info": {
   "codemirror_mode": {
    "name": "ipython",
    "version": 3
   },
   "file_extension": ".py",
   "mimetype": "text/x-python",
   "name": "python",
   "nbconvert_exporter": "python",
   "pygments_lexer": "ipython3",
   "version": "3.12.9"
  }
 },
 "nbformat": 4,
 "nbformat_minor": 2
}
