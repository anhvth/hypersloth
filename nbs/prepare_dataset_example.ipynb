{
 "cells": [
  {
   "cell_type": "code",
   "execution_count": 1,
   "metadata": {},
   "outputs": [],
   "source": [
    "from datasets import load_dataset\n",
    "from transformers import AutoTokenizer"
   ]
  },
  {
   "cell_type": "markdown",
   "metadata": {},
   "source": [
    "# Refeence format\n",
    "https://cookbook.openai.com/examples/how_to_format_inputs_to_chatgpt_models"
   ]
  },
  {
   "cell_type": "markdown",
   "metadata": {},
   "source": [
    "# alpaca-cleaned"
   ]
  },
  {
   "cell_type": "code",
   "execution_count": 3,
   "metadata": {},
   "outputs": [
    {
     "name": "stdout",
     "output_type": "stream",
     "text": [
      "\u001b[34m\u001b[1mDEBUG   \u001b[0m | \u001b[36mutils_print.py:324 (setup_logger)\u001b[0m - \u001b[34m\u001b[1mLogging set to DEBUG\u001b[0m\n"
     ]
    }
   ],
   "source": [
    "import random\n",
    "\n",
    "from speedy_utils import jdumps, jloads, log\n",
    "\n",
    "\n",
    "def shuffle_one_messages(messages):\n",
    "    ratio = 0.5\n",
    "    if random.random() < ratio:\n",
    "        return messages\n",
    "    # find the where the turn role is user and content is json string then use jloads to load it->dict, then shuffle the keys (augmentation)\n",
    "    for message in messages:\n",
    "        if message[\"role\"] == \"user\":\n",
    "            try:\n",
    "                message[\"content\"] = jloads(message[\"content\"])\n",
    "                # shuffle the keys\n",
    "                keys = list(message[\"content\"].keys())\n",
    "                if len(keys) > 1:\n",
    "                    shuffled_keys = keys[:]\n",
    "                    old_order = shuffled_keys[:]\n",
    "                    random.shuffle(shuffled_keys)\n",
    "                    new_order = shuffled_keys[:]\n",
    "                    log(\n",
    "                        f\"Shuffled keys: {old_order} -> {new_order}\",\n",
    "                        level=\"info\",\n",
    "                        once=True,\n",
    "                    )\n",
    "                    message[\"content\"] = jdumps(\n",
    "                        {k: message[\"content\"][k] for k in shuffled_keys}\n",
    "                    )\n",
    "            except Exception as e:\n",
    "                log(f\"Error while shuffling dict keys: {e}\", level=\"warning\", once=True)\n",
    "    return messages\n"
   ]
  },
  {
   "cell_type": "code",
   "execution_count": 2,
   "metadata": {},
   "outputs": [
    {
     "name": "stderr",
     "output_type": "stream",
     "text": [
      "Using the latest cached version of the dataset since yahma/alpaca-cleaned couldn't be found on the Hugging Face Hub\n",
      "Found the latest cached dataset configuration 'default' at /home/anhvth5/.cache/huggingface/datasets/yahma___alpaca-cleaned/default/0.0.0/12567cabf869d7c92e573c7c783905fc160e9639 (last modified on Wed Mar 12 13:57:58 2025).\n"
     ]
    },
    {
     "data": {
      "application/vnd.jupyter.widget-view+json": {
       "model_id": "3e97aa65625c4cc992f3501e3754cdd9",
       "version_major": 2,
       "version_minor": 0
      },
      "text/plain": [
       "Map:   0%|          | 0/51760 [00:00<?, ? examples/s]"
      ]
     },
     "metadata": {},
     "output_type": "display_data"
    },
    {
     "data": {
      "application/vnd.jupyter.widget-view+json": {
       "model_id": "621ab0fb9dd544d88984a258cf630577",
       "version_major": 2,
       "version_minor": 0
      },
      "text/plain": [
       "Saving the dataset (0/1 shards):   0%|          | 0/51760 [00:00<?, ? examples/s]"
      ]
     },
     "metadata": {},
     "output_type": "display_data"
    },
    {
     "data": {
      "text/plain": [
       "Dataset({\n",
       "    features: ['output', 'input', 'instruction', 'messages'],\n",
       "    num_rows: 51760\n",
       "})"
      ]
     },
     "execution_count": 2,
     "metadata": {},
     "output_type": "execute_result"
    }
   ],
   "source": [
    "# Expected dataset have openai-like messages format\n",
    "\n",
    "dataset = load_dataset('yahma/alpaca-cleaned', split='train')\n",
    "\n",
    "one_row = dataset[0]\n",
    "def get_messages(one_row):\n",
    "    # return openai messages format\n",
    "    # Expected is a list of dictionaries with the keys \"role\" and \"content\", roles are \"user\" and \"assistant\" or system, note that gemma models does not support system role\n",
    "    messages = [\n",
    "        {\"role\": \"user\", \"content\": one_row[\"instruction\"] + one_row[\"input\"]},\n",
    "        {\"role\": \"assistant\", \"content\": one_row[\"output\"]},\n",
    "    ]\n",
    "    \n",
    "    return {\"messages\": messages}\n",
    "\n",
    "# Apply the chat template to each example in the dataset\n",
    "dataset = dataset.map(get_messages)\n",
    "dataset.save_to_disk('../data/alpaca-cleaned')\n",
    "dataset"
   ]
  },
  {
   "cell_type": "code",
   "execution_count": 6,
   "metadata": {},
   "outputs": [],
   "source": [
    "# dataset"
   ]
  },
  {
   "cell_type": "code",
   "execution_count": null,
   "metadata": {},
   "outputs": [
    {
     "data": {
      "application/vnd.jupyter.widget-view+json": {
       "model_id": "e6bad08e73c94268b6f6d8c5c850d7ca",
       "version_major": 2,
       "version_minor": 0
      },
      "text/plain": [
       "Shuffling messages (num_proc=4):   0%|          | 0/51760 [00:00<?, ? examples/s]"
      ]
     },
     "metadata": {},
     "output_type": "display_data"
    }
   ],
   "source": [
    "dataset.map(\n",
    "    lambda x: {\"messages\": shuffle_one_messages(x[\"messages\"])},\n",
    "    batched=True,\n",
    "    num_proc=1,\n",
    "    desc=\"Shuffling messages\",\n",
    ")"
   ]
  },
  {
   "cell_type": "markdown",
   "metadata": {},
   "source": [
    "# OpenO1-SFT"
   ]
  },
  {
   "cell_type": "code",
   "execution_count": null,
   "metadata": {},
   "outputs": [],
   "source": []
  },
  {
   "cell_type": "code",
   "execution_count": null,
   "metadata": {},
   "outputs": [],
   "source": [
    "dataset = \"O1-OPEN/OpenO1-SFT\"\n",
    "# Expected dataset have openai-like messages format\n",
    "\n",
    "dataset = load_dataset(dataset, split='train')\n",
    "one_row = dataset[0]\n",
    "print(one_row)\n",
    "\n",
    "\n",
    "def get_messages(one_row):\n",
    "    # return openai messages format\n",
    "    # Expected is a list of dictionaries with the keys \"role\" and \"content\", roles are \"user\" and \"assistant\" or system, note that gemma models does not support system role\n",
    "    messages = [\n",
    "        {\"role\": \"user\", \"content\": one_row[\"instruction\"]},\n",
    "        {\"role\": \"assistant\", \"content\": one_row[\"output\"]},\n",
    "    ]\n",
    "    \n",
    "    return {\"messages\": messages}\n",
    "\n",
    "# Apply the chat template to each example in the dataset\n",
    "dataset = dataset.map(get_messages)\n",
    "dataset = dataset.shuffle(42).select(range(6000),)\n",
    "dataset.select(range(0, 5000, 1)).save_to_disk('../data/OpenO1-SFT-5k')\n",
    "dataset.select(range(5000, 6000, 1)).save_to_disk('../data/OpenO1-SFT-1k')\n",
    "dataset"
   ]
  },
  {
   "cell_type": "code",
   "execution_count": null,
   "metadata": {},
   "outputs": [],
   "source": [
    "dataset[0]"
   ]
  },
  {
   "cell_type": "code",
   "execution_count": null,
   "metadata": {},
   "outputs": [],
   "source": []
  },
  {
   "cell_type": "code",
   "execution_count": null,
   "metadata": {},
   "outputs": [],
   "source": []
  }
 ],
 "metadata": {
  "kernelspec": {
   "display_name": "default",
   "language": "python",
   "name": "python3"
  },
  "language_info": {
   "codemirror_mode": {
    "name": "ipython",
    "version": 3
   },
   "file_extension": ".py",
   "mimetype": "text/x-python",
   "name": "python",
   "nbconvert_exporter": "python",
   "pygments_lexer": "ipython3",
   "version": "3.12.2"
  }
 },
 "nbformat": 4,
 "nbformat_minor": 2
}
