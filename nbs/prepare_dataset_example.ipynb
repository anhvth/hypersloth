{
 "cells": [
  {
   "cell_type": "code",
   "execution_count": 1,
   "metadata": {},
   "outputs": [],
   "source": [
    "from datasets import load_dataset\n",
    "from transformers import AutoTokenizer"
   ]
  },
  {
   "cell_type": "markdown",
   "metadata": {},
   "source": [
    "# Refeence format\n",
    "https://cookbook.openai.com/examples/how_to_format_inputs_to_chatgpt_models"
   ]
  },
  {
   "cell_type": "markdown",
   "metadata": {},
   "source": [
    "# alpaca-cleaned"
   ]
  },
  {
   "cell_type": "code",
   "execution_count": null,
   "metadata": {},
   "outputs": [
    {
     "data": {
      "application/vnd.jupyter.widget-view+json": {
       "model_id": "e22b3e420d2d425c92b9b915bbf60feb",
       "version_major": 2,
       "version_minor": 0
      },
      "text/plain": [
       "Saving the dataset (0/1 shards):   0%|          | 0/51760 [00:00<?, ? examples/s]"
      ]
     },
     "metadata": {},
     "output_type": "display_data"
    },
    {
     "data": {
      "text/plain": [
       "Dataset({\n",
       "    features: ['output', 'input', 'instruction', 'messages'],\n",
       "    num_rows: 51760\n",
       "})"
      ]
     },
     "execution_count": 3,
     "metadata": {},
     "output_type": "execute_result"
    },
    {
     "ename": "",
     "evalue": "",
     "output_type": "error",
     "traceback": [
      "\u001b[1;31mThe Kernel crashed while executing code in the current cell or a previous cell. \n",
      "\u001b[1;31mPlease review the code in the cell(s) to identify a possible cause of the failure. \n",
      "\u001b[1;31mClick <a href='https://aka.ms/vscodeJupyterKernelCrash'>here</a> for more info. \n",
      "\u001b[1;31mView Jupyter <a href='command:jupyter.viewOutput'>log</a> for further details."
     ]
    }
   ],
   "source": [
    "# Expected dataset have openai-like messages format\n",
    "\n",
    "dataset = load_dataset('yahma/alpaca-cleaned', split='train')\n",
    "\n",
    "one_row = dataset[0]\n",
    "def get_messages(one_row):\n",
    "    # return openai messages format\n",
    "    # Expected is a list of dictionaries with the keys \"role\" and \"content\", roles are \"user\" and \"assistant\" or system, note that gemma models does not support system role\n",
    "    messages = [\n",
    "        {\"role\": \"user\", \"content\": one_row[\"instruction\"] + one_row[\"input\"]},\n",
    "        {\"role\": \"assistant\", \"content\": one_row[\"output\"]},\n",
    "    ]\n",
    "    \n",
    "    return {\"messages\": messages}\n",
    "\n",
    "# Apply the chat template to each example in the dataset\n",
    "dataset = dataset.map(get_messages)\n",
    "dataset.save_to_disk('../data/alpaca-cleaned')\n",
    "dataset"
   ]
  },
  {
   "cell_type": "markdown",
   "metadata": {},
   "source": [
    "# OpenO1-SFT"
   ]
  },
  {
   "cell_type": "code",
   "execution_count": 3,
   "metadata": {},
   "outputs": [
    {
     "name": "stdout",
     "output_type": "stream",
     "text": [
      "{'instruction': \"Consider a regular octagon. How many different triangles can be formed if the octagon is placed inside a circle and we can also use the center of the circle as a vertex for the triangles? Let's think step by step.\", 'output': \"<Thought>\\nAlright, I need to figure out how many different triangles can be formed in a regular octagon that's placed inside a circle, with the added twist that the center of the circle can also be used as a vertex for the triangles. Let's break this down step by step.\\n\\nFirst, let's recall that a regular octagon has 8 equal sides and 8 equal angles. Since it's placed inside a circle, each vertex of the octagon lies on the circumference of the circle. Additionally, we have the center of the circle as an extra point that can be used as a vertex for forming triangles.\\n\\nSo, in total, we have 9 points to consider: the 8 vertices of the octagon and the center of the circle.\\n\\nNow, to form a triangle, we need to select any 3 of these 9 points. The number of ways to choose 3 points out of 9 is given by the combination formula C(n, k) = n! / (k!(n-k)!), where n is the total number of points and k is the number of points to choose.\\n\\nCalculating C(9, 3):\\nC(9, 3) = 9! / (3! * (9-3)!) = (9 * 8 * 7) / (3 * 2 * 1) = 84.\\n\\nSo, there are 84 possible triangles if we consider all combinations of the 9 points.\\n\\nBut wait, let's make sure we're not missing anything. Are there any restrictions or special cases? For instance, could any three points be collinear, making them unable to form a triangle? In a regular octagon inscribed in a circle, no three vertices are collinear because the angles between consecutive vertices are 45 degrees, and no three points on the circumference of a circle are collinear unless they lie on a straight line, which doesn't happen here. Additionally, including the center doesn't introduce any collinearity issues because the center is equidistant from all vertices, and connecting it with any two vertices forms a triangle.\\n\\nTherefore, all 84 combinations of 3 points will indeed form valid triangles.\\n\\nBut let's double-check by considering different scenarios:\\n1. Triangles formed by three vertices of the octagon.\\n2. Triangles formed by two vertices and the center.\\n3. Triangles formed by one vertex, the center, and another point (but since we only have the center and the vertices, this is covered in the previous points).\\n\\nCalculating each scenario separately:\\n1. Number of triangles with three vertices: C(8, 3) = 56.\\n2. Number of triangles with two vertices and the center: C(8, 2) = 28.\\n3. Since there's only one center, and we've already accounted for triangles with two vertices and the center, there are no additional triangles to consider.\\n\\nAdding these up: 56 + 28 = 84, which matches our initial calculation.\\n\\nIs there any other consideration? Perhaps symmetry or identical triangles? In a regular octagon, due to its symmetry, some triangles might be congruent, but the question asks for different triangles, not necessarily unique in shape or size. So, even if some triangles are congruent, they are still counted as different if they consist of different sets of points.\\n\\nTherefore, the total number of different triangles that can be formed is 84.\\n\\n</Thought>\\n<Output>\\n84 different triangles can be formed.\\n</Output>\"}\n"
     ]
    }
   ],
   "source": [
    "dataset = \"O1-OPEN/OpenO1-SFT\"\n",
    "# Expected dataset have openai-like messages format\n",
    "\n",
    "dataset = load_dataset(dataset, split='train')\n",
    "one_row = dataset[0]\n",
    "print(one_row)"
   ]
  },
  {
   "cell_type": "code",
   "execution_count": 4,
   "metadata": {},
   "outputs": [
    {
     "data": {
      "application/vnd.jupyter.widget-view+json": {
       "model_id": "8c5eefaab72b4e15b02453437094a9eb",
       "version_major": 2,
       "version_minor": 0
      },
      "text/plain": [
       "Map:   0%|          | 0/77685 [00:00<?, ? examples/s]"
      ]
     },
     "metadata": {},
     "output_type": "display_data"
    },
    {
     "data": {
      "application/vnd.jupyter.widget-view+json": {
       "model_id": "6e6120b0c98443c4af3cb1004dd6ed9d",
       "version_major": 2,
       "version_minor": 0
      },
      "text/plain": [
       "Saving the dataset (0/2 shards):   0%|          | 0/77685 [00:00<?, ? examples/s]"
      ]
     },
     "metadata": {},
     "output_type": "display_data"
    },
    {
     "data": {
      "text/plain": [
       "Dataset({\n",
       "    features: ['instruction', 'output', 'messages'],\n",
       "    num_rows: 77685\n",
       "})"
      ]
     },
     "execution_count": 4,
     "metadata": {},
     "output_type": "execute_result"
    }
   ],
   "source": [
    "\n",
    "\n",
    "\n",
    "def get_messages(one_row):\n",
    "    # return openai messages format\n",
    "    # Expected is a list of dictionaries with the keys \"role\" and \"content\", roles are \"user\" and \"assistant\" or system, note that gemma models does not support system role\n",
    "    messages = [\n",
    "        {\"role\": \"user\", \"content\": one_row[\"instruction\"]},\n",
    "        {\"role\": \"assistant\", \"content\": one_row[\"output\"]},\n",
    "    ]\n",
    "    \n",
    "    return {\"messages\": messages}\n",
    "\n",
    "# Apply the chat template to each example in the dataset\n",
    "dataset = dataset.map(get_messages)\n",
    "dataset.save_to_disk('../data/OpenO1-SFT')\n",
    "dataset"
   ]
  },
  {
   "cell_type": "code",
   "execution_count": null,
   "metadata": {},
   "outputs": [],
   "source": []
  },
  {
   "cell_type": "code",
   "execution_count": null,
   "metadata": {},
   "outputs": [],
   "source": []
  }
 ],
 "metadata": {
  "kernelspec": {
   "display_name": "training",
   "language": "python",
   "name": "python3"
  },
  "language_info": {
   "codemirror_mode": {
    "name": "ipython",
    "version": 3
   },
   "file_extension": ".py",
   "mimetype": "text/x-python",
   "name": "python",
   "nbconvert_exporter": "python",
   "pygments_lexer": "ipython3",
   "version": "3.12.9"
  }
 },
 "nbformat": 4,
 "nbformat_minor": 2
}
