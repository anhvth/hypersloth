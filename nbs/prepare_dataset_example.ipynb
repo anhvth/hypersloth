{
 "cells": [
  {
   "cell_type": "code",
   "execution_count": 2,
   "metadata": {},
   "outputs": [],
   "source": [
    "from datasets import load_dataset\n",
    "from transformers import AutoTokenizer"
   ]
  },
  {
   "cell_type": "markdown",
   "metadata": {},
   "source": [
    "# Refeence format\n",
    "https://cookbook.openai.com/examples/how_to_format_inputs_to_chatgpt_models"
   ]
  },
  {
   "cell_type": "code",
   "execution_count": 3,
   "metadata": {},
   "outputs": [
    {
     "data": {
      "application/vnd.jupyter.widget-view+json": {
       "model_id": "e22b3e420d2d425c92b9b915bbf60feb",
       "version_major": 2,
       "version_minor": 0
      },
      "text/plain": [
       "Saving the dataset (0/1 shards):   0%|          | 0/51760 [00:00<?, ? examples/s]"
      ]
     },
     "metadata": {},
     "output_type": "display_data"
    },
    {
     "data": {
      "text/plain": [
       "Dataset({\n",
       "    features: ['output', 'input', 'instruction', 'messages'],\n",
       "    num_rows: 51760\n",
       "})"
      ]
     },
     "execution_count": 3,
     "metadata": {},
     "output_type": "execute_result"
    }
   ],
   "source": [
    "# Expected dataset have openai-like messages format\n",
    "\n",
    "dataset = load_dataset('yahma/alpaca-cleaned', split='train')\n",
    "\n",
    "one_row = dataset[0]\n",
    "def get_messages(one_row):\n",
    "    # return openai messages format\n",
    "    # Expected is a list of dictionaries with the keys \"role\" and \"content\", roles are \"user\" and \"assistant\" or system, note that gemma models does not support system role\n",
    "    messages = [\n",
    "        {\"role\": \"user\", \"content\": one_row[\"instruction\"] + one_row[\"input\"]},\n",
    "        {\"role\": \"assistant\", \"content\": one_row[\"output\"]},\n",
    "    ]\n",
    "    \n",
    "    return {\"messages\": messages}\n",
    "\n",
    "# Apply the chat template to each example in the dataset\n",
    "dataset = dataset.map(get_messages)\n",
    "dataset.save_to_disk('../data/alpaca-cleaned')\n",
    "dataset"
   ]
  },
  {
   "cell_type": "code",
   "execution_count": null,
   "metadata": {},
   "outputs": [],
   "source": []
  },
  {
   "cell_type": "code",
   "execution_count": null,
   "metadata": {},
   "outputs": [],
   "source": []
  },
  {
   "cell_type": "code",
   "execution_count": null,
   "metadata": {},
   "outputs": [],
   "source": []
  },
  {
   "cell_type": "code",
   "execution_count": null,
   "metadata": {},
   "outputs": [],
   "source": []
  }
 ],
 "metadata": {
  "kernelspec": {
   "display_name": "training",
   "language": "python",
   "name": "python3"
  },
  "language_info": {
   "codemirror_mode": {
    "name": "ipython",
    "version": 3
   },
   "file_extension": ".py",
   "mimetype": "text/x-python",
   "name": "python",
   "nbconvert_exporter": "python",
   "pygments_lexer": "ipython3",
   "version": "3.12.9"
  }
 },
 "nbformat": 4,
 "nbformat_minor": 2
}
