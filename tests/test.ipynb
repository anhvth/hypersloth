{
 "cells": [
  {
   "cell_type": "code",
   "execution_count": null,
   "metadata": {},
   "outputs": [],
   "source": [
    "%%capture\n",
    "%load_ext autoreload\n",
    "%autoreload 2"
   ]
  },
  {
   "cell_type": "code",
   "execution_count": null,
   "metadata": {},
   "outputs": [],
   "source": [
    "from transformers import AutoModel, AutoTokenizer\n",
    "import torch\n",
    "from unsloth import FastLanguageModel\n",
    "from speedy_utils.all import *\n",
    "\n",
    "def prepare_model(\n",
    "    model_name, output_dir, tokenizer_name=None, chat_template=None, save_in_4bit=True\n",
    "):\n",
    "    os.makedirs(output_dir, exist_ok=True)\n",
    "    if tokenizer_name is None:\n",
    "        tokenizer_name = model_name\n",
    "    model = AutoModel.from_pretrained(model_name, torch_dtype=torch.bfloat16)\n",
    "    tokenizer = AutoTokenizer.from_pretrained(tokenizer_name)\n",
    "\n",
    "    if chat_template is not None:\n",
    "        print(\"Loading chat template\")\n",
    "        tokenizer.chat_template = AutoTokenizer.from_pretrained(\n",
    "            chat_template, torch_dtype=torch.bfloat16\n",
    "        ).chat_template\n",
    "\n",
    "    model.save_pretrained(output_dir)\n",
    "    tokenizer.save_pretrained(output_dir)\n",
    "    if save_in_4bit:\n",
    "        print(\"Saving model in 4bit\")\n",
    "        if output_dir.endswith(\"/\"):\n",
    "            output_dir = output_dir[:-1]\n",
    "        output_dir_4bit = output_dir + \"-bnb-4bit\"\n",
    "        os.makedirs(output_dir_4bit, exist_ok=True)\n",
    "        model, tokenizer = FastLanguageModel.from_pretrained(\n",
    "            model_name=output_dir,\n",
    "        )\n",
    "        model.save_pretrained(output_dir_4bit)\n",
    "        tokenizer.save_pretrained(output_dir_4bit)\n",
    "\n",
    "\n",
    "model = \"ModelSpace/GemmaX2-28-9B-v0.1\"\n",
    "tokenizer = None\n",
    "chat_template = \"google/gemma-2-9b-it\"\n",
    "output_dir = \"/mnt/data/huggingface-models/ModelSpace/GemmaX2-28-9B-v0.1\"\n",
    "prepare_model(model, output_dir, tokenizer, chat_template, save_in_4bit=True)"
   ]
  },
  {
   "cell_type": "code",
   "execution_count": null,
   "metadata": {},
   "outputs": [],
   "source": []
  }
 ],
 "metadata": {
  "kernelspec": {
   "display_name": "training",
   "language": "python",
   "name": "python3"
  },
  "language_info": {
   "codemirror_mode": {
    "name": "ipython",
    "version": 3
   },
   "file_extension": ".py",
   "mimetype": "text/x-python",
   "name": "python",
   "nbconvert_exporter": "python",
   "pygments_lexer": "ipython3",
   "version": "3.12.0"
  }
 },
 "nbformat": 4,
 "nbformat_minor": 2
}
